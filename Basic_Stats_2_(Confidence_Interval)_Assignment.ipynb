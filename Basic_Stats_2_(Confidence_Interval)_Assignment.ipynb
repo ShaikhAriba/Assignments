{
  "nbformat": 4,
  "nbformat_minor": 0,
  "metadata": {
    "colab": {
      "provenance": [],
      "authorship_tag": "ABX9TyNg4Ld0mXmde4yU6tY5JcCS"
    },
    "kernelspec": {
      "name": "python3",
      "display_name": "Python 3"
    },
    "language_info": {
      "name": "python"
    }
  },
  "cells": [
    {
      "cell_type": "code",
      "execution_count": null,
      "metadata": {
        "id": "1pkHOlcwInyl"
      },
      "outputs": [],
      "source": [
        "import numpy as np\n",
        "import scipy.stats as stats"
      ]
    },
    {
      "cell_type": "code",
      "source": [
        "data = [1.13, 1.55, 1.43, 0.92, 1.25, 1.36, 1.32, 0.85, 1.07, 1.48, 1.20, 1.33, 1.18, 1.22, 1.29]\n",
        "n = len(data)"
      ],
      "metadata": {
        "id": "p8HDwZIdI0ad"
      },
      "execution_count": null,
      "outputs": []
    },
    {
      "cell_type": "markdown",
      "source": [
        "## a. Build 99% Confidence Interval Using Sample Standard Deviation"
      ],
      "metadata": {
        "id": "cshq_clwJARD"
      }
    },
    {
      "cell_type": "code",
      "source": [
        "sample_mean = np.mean(data)\n",
        "sample_std = np.std(data, ddof = 1)"
      ],
      "metadata": {
        "id": "eTtGKPrjI8E2"
      },
      "execution_count": null,
      "outputs": []
    },
    {
      "cell_type": "code",
      "source": [
        "alpha = 0.01  #99% CI means 1% significance level\n"
      ],
      "metadata": {
        "id": "qe5moqmwJvxt"
      },
      "execution_count": null,
      "outputs": []
    },
    {
      "cell_type": "code",
      "source": [
        "df = n-1"
      ],
      "metadata": {
        "id": "t2j-Dsx8KCzf"
      },
      "execution_count": null,
      "outputs": []
    },
    {
      "cell_type": "code",
      "source": [
        "t_value = stats.t.ppf(1-alpha/2,df)"
      ],
      "metadata": {
        "id": "H79wGi8uKECM"
      },
      "execution_count": null,
      "outputs": []
    },
    {
      "cell_type": "code",
      "source": [
        "ME_sample = t_value*(sample_std/np.sqrt(n))"
      ],
      "metadata": {
        "id": "X7i7OiD5KM0H"
      },
      "execution_count": null,
      "outputs": []
    },
    {
      "cell_type": "code",
      "source": [
        "CI_sample = (sample_mean - ME_sample,sample_mean + ME_sample)"
      ],
      "metadata": {
        "id": "V6C7v6OJKesK"
      },
      "execution_count": null,
      "outputs": []
    },
    {
      "cell_type": "code",
      "source": [
        "print(f\"Sample Mean: {sample_mean: .4f}\")\n",
        "print(f\"Sample Standard Deviation: {sample_std :.4f}\")\n",
        "print(f\"t-value (99%): {t_value:.4f}\")\n",
        "print(f\"Margin of Error: {ME_sample:.4f}\")\n",
        "print(f\"99% Confidence Interval (sample std)) : {CI_sample}\")"
      ],
      "metadata": {
        "colab": {
          "base_uri": "https://localhost:8080/"
        },
        "id": "SCmDxihEKn6Q",
        "outputId": "1c2ffa56-7f7d-4e43-f253-2af8e1145c35"
      },
      "execution_count": null,
      "outputs": [
        {
          "output_type": "stream",
          "name": "stdout",
          "text": [
            "Sample Mean:  1.2387\n",
            "Sample Standard Deviation: 0.1932\n",
            "t-value (99%): 2.9768\n",
            "Margin of Error: 0.1485\n",
            "99% Confidence Interval (sample std)) : (1.0901973384384906, 1.3871359948948425)\n"
          ]
        }
      ]
    },
    {
      "cell_type": "markdown",
      "source": [
        "## b. Build 99% Confidence Interval Using Known Population Standard Deviation"
      ],
      "metadata": {
        "id": "VCrpXO1UL4Rw"
      }
    },
    {
      "cell_type": "code",
      "source": [
        "population_std = 0.2"
      ],
      "metadata": {
        "id": "fLwjpKrYLiGe"
      },
      "execution_count": null,
      "outputs": []
    },
    {
      "cell_type": "code",
      "source": [
        "z_value = stats.norm.ppf(1-alpha/2)"
      ],
      "metadata": {
        "id": "M_7jLIasMBqM"
      },
      "execution_count": null,
      "outputs": []
    },
    {
      "cell_type": "code",
      "source": [
        "ME_population = z_value*(population_std/np.sqrt(n))"
      ],
      "metadata": {
        "id": "rTNBaCeiMLoC"
      },
      "execution_count": null,
      "outputs": []
    },
    {
      "cell_type": "code",
      "source": [
        "CI_population = (sample_mean - ME_population, sample_mean + ME_population)"
      ],
      "metadata": {
        "id": "E_uhsNeQMWdW"
      },
      "execution_count": null,
      "outputs": []
    },
    {
      "cell_type": "code",
      "source": [
        "print(f\"z-value (99%): {z_value :.4f}\")\n",
        "print(f\"Margin of Error (Pop std): {ME_population :.4f}\")\n",
        "print(f\"99% Confidence Interval (pop std): {CI_population}\")"
      ],
      "metadata": {
        "colab": {
          "base_uri": "https://localhost:8080/"
        },
        "id": "QW4WVhRNMh97",
        "outputId": "2070a0b9-7af0-4f84-ff75-2e6f1ba338f4"
      },
      "execution_count": null,
      "outputs": [
        {
          "output_type": "stream",
          "name": "stdout",
          "text": [
            "z-value (99%): 2.5758\n",
            "Margin of Error (Pop std): 0.1330\n",
            "99% Confidence Interval (pop std): (1.1056514133957607, 1.3716819199375725)\n"
          ]
        }
      ]
    },
    {
      "cell_type": "code",
      "source": [],
      "metadata": {
        "id": "wnGWh10zNJub"
      },
      "execution_count": null,
      "outputs": []
    }
  ]
}