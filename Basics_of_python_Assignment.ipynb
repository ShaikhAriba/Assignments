{
  "nbformat": 4,
  "nbformat_minor": 0,
  "metadata": {
    "colab": {
      "provenance": [],
      "authorship_tag": "ABX9TyMIthLd83y0/qmVGzJTw+HN",
      "include_colab_link": true
    },
    "kernelspec": {
      "name": "python3",
      "display_name": "Python 3"
    },
    "language_info": {
      "name": "python"
    }
  },
  "cells": [
    {
      "cell_type": "markdown",
      "metadata": {
        "id": "view-in-github",
        "colab_type": "text"
      },
      "source": [
        "<a href=\"https://colab.research.google.com/github/ShaikhAriba/Assignments/blob/main/Basics_of_python_Assignment.ipynb\" target=\"_parent\"><img src=\"https://colab.research.google.com/assets/colab-badge.svg\" alt=\"Open In Colab\"/></a>"
      ]
    },
    {
      "cell_type": "markdown",
      "source": [
        "## Exercise 1: Prime Numbers"
      ],
      "metadata": {
        "id": "PNXIw9saQMNg"
      }
    },
    {
      "cell_type": "code",
      "execution_count": null,
      "metadata": {
        "colab": {
          "base_uri": "https://localhost:8080/"
        },
        "id": "Td5RzP2uPzWw",
        "outputId": "8b8ebcd2-b8e6-4118-922d-e736785370b0"
      },
      "outputs": [
        {
          "output_type": "stream",
          "name": "stdout",
          "text": [
            "37\n",
            "37 is prime\n"
          ]
        }
      ],
      "source": [
        "def is_prime(num):\n",
        "  if num<=1:\n",
        "    return False\n",
        "  elif num ==2:\n",
        "    return True\n",
        "  elif num % 2 == 0:\n",
        "    return False\n",
        "  else:\n",
        "    for i in range(3,int(num**0.5)+1,2):\n",
        "      if num % i ==0:\n",
        "        return False\n",
        "    return True\n",
        "\n",
        "#get input from user\n",
        "number = int(input())\n",
        "if is_prime(number):\n",
        "    print(f'{number} is prime')\n",
        "else:\n",
        "    print(f'{number} is not prime')"
      ]
    },
    {
      "cell_type": "code",
      "source": [],
      "metadata": {
        "id": "YjuLM1PDT3_W"
      },
      "execution_count": null,
      "outputs": []
    },
    {
      "cell_type": "markdown",
      "source": [
        "## Product of Random Numbers"
      ],
      "metadata": {
        "id": "O6rGcCART6AB"
      }
    },
    {
      "cell_type": "code",
      "source": [
        "import numpy as np\n",
        "\n",
        "# function to generate random numbers\n",
        "def random_numbers():\n",
        "    num1 = np.random.randint(1, 10)\n",
        "    num2 = np.random.randint(1, 10)\n",
        "    return num1, num2\n",
        "\n",
        "def main():\n",
        "    num1, num2 = random_numbers()\n",
        "    # generate the product of random numbers\n",
        "    correct_product = num1 * num2\n",
        "    # get input of product from user\n",
        "    user_answer = int(input(f\"What is the product of {num1} and {num2}? \"))\n",
        "\n",
        "    #check answer\n",
        "    if user_answer == correct_product:\n",
        "        print(\"Correct! Well done.\")\n",
        "    else:\n",
        "        print(f\"Incorrect. The correct answer is {correct_product}.\")\n",
        "\n",
        "main()\n"
      ],
      "metadata": {
        "colab": {
          "base_uri": "https://localhost:8080/"
        },
        "id": "Ik6lNN-zSSMi",
        "outputId": "fcf795ec-9ac5-4186-850e-7defcccb492c"
      },
      "execution_count": null,
      "outputs": [
        {
          "output_type": "stream",
          "name": "stdout",
          "text": [
            "What is the product of 5 and 7? 40\n",
            "Incorrect. The correct answer is 35.\n"
          ]
        }
      ]
    },
    {
      "cell_type": "markdown",
      "source": [
        "## Squares of Even/Odd Numbers"
      ],
      "metadata": {
        "id": "mceyS2FMVJyW"
      }
    },
    {
      "cell_type": "code",
      "source": [
        "def sq_even(start,end):\n",
        "  for i in range(start,end+1):\n",
        "    if i % 2 == 0:\n",
        "      print(f'The sqaure of {i} is {i**2}')\n",
        "\n",
        "\n",
        "# giving the start and end\n",
        "start = 100\n",
        "end = 200\n",
        "\n",
        "sq_even(start,end)"
      ],
      "metadata": {
        "colab": {
          "base_uri": "https://localhost:8080/"
        },
        "id": "pHDUYhCDUkUD",
        "outputId": "953e7e62-5beb-4267-f7f3-276106ba87d1"
      },
      "execution_count": null,
      "outputs": [
        {
          "output_type": "stream",
          "name": "stdout",
          "text": [
            "The sqaure of 100 is 10000\n",
            "The sqaure of 102 is 10404\n",
            "The sqaure of 104 is 10816\n",
            "The sqaure of 106 is 11236\n",
            "The sqaure of 108 is 11664\n",
            "The sqaure of 110 is 12100\n",
            "The sqaure of 112 is 12544\n",
            "The sqaure of 114 is 12996\n",
            "The sqaure of 116 is 13456\n",
            "The sqaure of 118 is 13924\n",
            "The sqaure of 120 is 14400\n",
            "The sqaure of 122 is 14884\n",
            "The sqaure of 124 is 15376\n",
            "The sqaure of 126 is 15876\n",
            "The sqaure of 128 is 16384\n",
            "The sqaure of 130 is 16900\n",
            "The sqaure of 132 is 17424\n",
            "The sqaure of 134 is 17956\n",
            "The sqaure of 136 is 18496\n",
            "The sqaure of 138 is 19044\n",
            "The sqaure of 140 is 19600\n",
            "The sqaure of 142 is 20164\n",
            "The sqaure of 144 is 20736\n",
            "The sqaure of 146 is 21316\n",
            "The sqaure of 148 is 21904\n",
            "The sqaure of 150 is 22500\n",
            "The sqaure of 152 is 23104\n",
            "The sqaure of 154 is 23716\n",
            "The sqaure of 156 is 24336\n",
            "The sqaure of 158 is 24964\n",
            "The sqaure of 160 is 25600\n",
            "The sqaure of 162 is 26244\n",
            "The sqaure of 164 is 26896\n",
            "The sqaure of 166 is 27556\n",
            "The sqaure of 168 is 28224\n",
            "The sqaure of 170 is 28900\n",
            "The sqaure of 172 is 29584\n",
            "The sqaure of 174 is 30276\n",
            "The sqaure of 176 is 30976\n",
            "The sqaure of 178 is 31684\n",
            "The sqaure of 180 is 32400\n",
            "The sqaure of 182 is 33124\n",
            "The sqaure of 184 is 33856\n",
            "The sqaure of 186 is 34596\n",
            "The sqaure of 188 is 35344\n",
            "The sqaure of 190 is 36100\n",
            "The sqaure of 192 is 36864\n",
            "The sqaure of 194 is 37636\n",
            "The sqaure of 196 is 38416\n",
            "The sqaure of 198 is 39204\n",
            "The sqaure of 200 is 40000\n"
          ]
        }
      ]
    },
    {
      "cell_type": "code",
      "source": [],
      "metadata": {
        "id": "czGWKMbaXtbS"
      },
      "execution_count": null,
      "outputs": []
    },
    {
      "cell_type": "markdown",
      "source": [
        "## Word counter"
      ],
      "metadata": {
        "id": "GX1gh5tTZHgD"
      }
    },
    {
      "cell_type": "code",
      "source": [
        "from collections import Counter\n",
        "import string\n",
        "\n",
        "def count_words(text):\n",
        "    #to remove the punctuation\n",
        "    translator = str.maketrans('', '', string.punctuation)\n",
        "    text = text.translate(translator)\n",
        "\n",
        "   # Split text into words\n",
        "    words = text.split()\n",
        "\n",
        "    # Count occurrences of each word\n",
        "    word_count = Counter(words)\n",
        "\n",
        "    return word_count\n",
        "\n",
        "def main():\n",
        "    input_text = \"This is a sample text. This text will be used to demonstrate the word counter.\"\n",
        "\n",
        "    # Count words in the input text\n",
        "    word_counts = count_words(input_text)\n",
        "\n",
        "    # Print the word counts\n",
        "    for word, count in word_counts.items():\n",
        "        print(f\"'{word}': {count}\")\n",
        "\n",
        "# Call main() function\n",
        "\n",
        "main()\n"
      ],
      "metadata": {
        "colab": {
          "base_uri": "https://localhost:8080/"
        },
        "id": "fCFKS-bVZL_L",
        "outputId": "3d96575e-b50b-4637-f463-3856979fb26d"
      },
      "execution_count": null,
      "outputs": [
        {
          "output_type": "stream",
          "name": "stdout",
          "text": [
            "'This': 2\n",
            "'is': 1\n",
            "'a': 1\n",
            "'sample': 1\n",
            "'text': 2\n",
            "'will': 1\n",
            "'be': 1\n",
            "'used': 1\n",
            "'to': 1\n",
            "'demonstrate': 1\n",
            "'the': 1\n",
            "'word': 1\n",
            "'counter': 1\n"
          ]
        }
      ]
    },
    {
      "cell_type": "code",
      "source": [],
      "metadata": {
        "id": "-DHrNvu0aswJ"
      },
      "execution_count": null,
      "outputs": []
    },
    {
      "cell_type": "markdown",
      "source": [
        "##  Check for Palindrome"
      ],
      "metadata": {
        "id": "FUzUEeUReUA1"
      }
    },
    {
      "cell_type": "code",
      "source": [
        "def is_palindrome(s):\n",
        "    # To remove spaces and punctuation, and convert text to lowercase\n",
        "    normalized_str = ''.join(char.lower() for char in s if char.isalnum())\n",
        "\n",
        "    # to check if text is palindrome\n",
        "    return normalized_str == normalized_str[::-1]\n",
        "\n",
        "# get input\n",
        "input_str = \"racecar\"\n",
        "print(is_palindrome(input_str))\n"
      ],
      "metadata": {
        "colab": {
          "base_uri": "https://localhost:8080/"
        },
        "id": "8zD7nUpheThl",
        "outputId": "0000b0db-ee4d-407e-e48f-287c6c205170"
      },
      "execution_count": null,
      "outputs": [
        {
          "output_type": "stream",
          "name": "stdout",
          "text": [
            "True\n"
          ]
        }
      ]
    },
    {
      "cell_type": "code",
      "source": [],
      "metadata": {
        "id": "07Tevk6UfTGv"
      },
      "execution_count": null,
      "outputs": []
    }
  ]
}